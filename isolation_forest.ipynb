{
 "cells": [
  {
   "cell_type": "markdown",
   "id": "0a592a09",
   "metadata": {},
   "source": []
  },
  {
   "cell_type": "markdown",
   "id": "fec4850f",
   "metadata": {},
   "source": [
    "### Table of Content\n",
    "- Introduction:\n",
    "- What is Isolation Forest?\n",
    "- Isolation Forests Anamoly Detection\n",
    "- How do Isolation Forests work?\n",
    "    - Implementation in Python:\n",
    "        - Initial and exploratory data analysis\n",
    "        - Define and fit the model\n",
    "    - Limitations of Isolation Forest:\n",
    "- Conclusion\n",
    "- Frequently Asked Questions"
   ]
  },
  {
   "cell_type": "markdown",
   "id": "c5f3023e",
   "metadata": {},
   "source": [
    "### Introduction\n",
    "- Any data point/observation that deviates significantly from the other observations is called an Anomaly/Outlier.\n",
    "- Anomaly detection is important and finds its application in various domains like \n",
    "    - detection of fraudulent bank transactions, \n",
    "    - network intrusion detection, \n",
    "    - sudden rise/drop in sales, \n",
    "    - change in customer behavior"
   ]
  },
  {
   "cell_type": "markdown",
   "id": "0ccd4c6c",
   "metadata": {},
   "source": [
    "### what is Isolation forest - an unsupervised anomaly detection technique\n",
    "\n",
    "- The approach employs binary trees to detect anomalies, \n",
    "- resulting in a linear time complexity and \n",
    "- low memory usage that is well-suited for processing large datasets.\n",
    "- Isolation Forest has gained popularity as a fast and reliable algorithm for anomaly detection in various fields such as cybersecurity, finance, and medical research.\n",
    "- IsolationForests were built based on the fact that anomalies are the data points that are “few and different”\n"
   ]
  },
  {
   "cell_type": "markdown",
   "id": "894a7e25",
   "metadata": {},
   "source": [
    "### How does Isolation Forest work\n",
    "- In an Isolation Forest, randomly sub-sampled data is processed in a tree structure based on randomly selected features. \n",
    "- The samples that travel deeper into the tree are less likely to be anomalies as they required more cuts to isolate them. \n",
    "- Similarly, the samples which end up in shorter branches indicate anomalies as it was easier for the tree to separate them from other observations.\n",
    "- Isolation Forests outlier detection are nothing but an ensemble of binary decision trees. And each tree in an Isolation Forest is called an Isolation Tree(iTree). \n",
    "- The algorithm starts with the training of the data, by generating Isolation Trees"
   ]
  },
  {
   "cell_type": "markdown",
   "id": "99ab192b",
   "metadata": {},
   "source": [
    "### Algorithm\n",
    "- When given a dataset, a random sub-sample of the data is selected and assigned to a binary tree.\n",
    "- Branching of the tree starts by selecting a random feature (from the set of all N features) first. And then branching is done on a random threshold ( any value in the range of minimum and maximum values of the selected feature).\n",
    "- If the value of a data point is less than the selected threshold, it goes to the left branch else to the right. And thus a node is split into left and right branches.\n",
    "- This process from step 2 is continued recursively till each data point is completely isolated or till max depth(if defined) is reached.\n",
    "- The above steps are repeated to construct random binary trees."
   ]
  },
  {
   "cell_type": "markdown",
   "id": "d58804a1",
   "metadata": {},
   "source": [
    "### Implementation in Python"
   ]
  },
  {
   "cell_type": "code",
   "execution_count": 7,
   "id": "afe723aa",
   "metadata": {},
   "outputs": [],
   "source": [
    "import numpy as np\n",
    "import pandas as pd\n",
    "import seaborn as sns\n",
    "from sklearn.ensemble import IsolationForest\n",
    "import warnings\n",
    "warnings.filterwarnings('ignore')"
   ]
  },
  {
   "cell_type": "markdown",
   "id": "397ab6e0",
   "metadata": {},
   "source": [
    "### Initial Data Analysis"
   ]
  },
  {
   "cell_type": "code",
   "execution_count": 2,
   "id": "1b9504a6",
   "metadata": {},
   "outputs": [],
   "source": [
    "data = pd.read_csv('marks.csv')"
   ]
  },
  {
   "cell_type": "code",
   "execution_count": 3,
   "id": "52303021",
   "metadata": {},
   "outputs": [
    {
     "data": {
      "text/html": [
       "<div>\n",
       "<style scoped>\n",
       "    .dataframe tbody tr th:only-of-type {\n",
       "        vertical-align: middle;\n",
       "    }\n",
       "\n",
       "    .dataframe tbody tr th {\n",
       "        vertical-align: top;\n",
       "    }\n",
       "\n",
       "    .dataframe thead th {\n",
       "        text-align: right;\n",
       "    }\n",
       "</style>\n",
       "<table border=\"1\" class=\"dataframe\">\n",
       "  <thead>\n",
       "    <tr style=\"text-align: right;\">\n",
       "      <th></th>\n",
       "      <th>student id</th>\n",
       "      <th>marks</th>\n",
       "    </tr>\n",
       "  </thead>\n",
       "  <tbody>\n",
       "    <tr>\n",
       "      <th>0</th>\n",
       "      <td>1</td>\n",
       "      <td>95</td>\n",
       "    </tr>\n",
       "    <tr>\n",
       "      <th>1</th>\n",
       "      <td>2</td>\n",
       "      <td>98</td>\n",
       "    </tr>\n",
       "    <tr>\n",
       "      <th>2</th>\n",
       "      <td>3</td>\n",
       "      <td>92</td>\n",
       "    </tr>\n",
       "    <tr>\n",
       "      <th>3</th>\n",
       "      <td>4</td>\n",
       "      <td>10000</td>\n",
       "    </tr>\n",
       "    <tr>\n",
       "      <th>4</th>\n",
       "      <td>5</td>\n",
       "      <td>91</td>\n",
       "    </tr>\n",
       "  </tbody>\n",
       "</table>\n",
       "</div>"
      ],
      "text/plain": [
       "   student id  marks\n",
       "0           1     95\n",
       "1           2     98\n",
       "2           3     92\n",
       "3           4  10000\n",
       "4           5     91"
      ]
     },
     "execution_count": 3,
     "metadata": {},
     "output_type": "execute_result"
    }
   ],
   "source": [
    "data.head()"
   ]
  },
  {
   "cell_type": "code",
   "execution_count": 4,
   "id": "d7d0e867",
   "metadata": {},
   "outputs": [
    {
     "name": "stdout",
     "output_type": "stream",
     "text": [
      "   student id  marks\n",
      "0           1     95\n",
      "1           2     98\n",
      "2           3     92\n",
      "3           4  10000\n",
      "4           5     91\n",
      "5           6     89\n",
      "6           7     90\n",
      "7           8   2000\n",
      "8           9    100\n",
      "9          10    100\n"
     ]
    }
   ],
   "source": [
    "print(data.head(10))"
   ]
  },
  {
   "cell_type": "code",
   "execution_count": 12,
   "id": "55e49f84",
   "metadata": {},
   "outputs": [
    {
     "data": {
      "text/plain": [
       "0       95\n",
       "1       98\n",
       "2       92\n",
       "3    10000\n",
       "4       91\n",
       "5       89\n",
       "6       90\n",
       "7     2000\n",
       "8      100\n",
       "9      100\n",
       "Name: marks, dtype: int64"
      ]
     },
     "execution_count": 12,
     "metadata": {},
     "output_type": "execute_result"
    }
   ],
   "source": [
    "data.marks"
   ]
  },
  {
   "cell_type": "code",
   "execution_count": 13,
   "id": "82cdf826",
   "metadata": {},
   "outputs": [
    {
     "data": {
      "text/plain": [
       "0       95\n",
       "1       98\n",
       "2       92\n",
       "3    10000\n",
       "4       91\n",
       "5       89\n",
       "6       90\n",
       "7     2000\n",
       "8      100\n",
       "9      100\n",
       "Name: marks, dtype: int64"
      ]
     },
     "execution_count": 13,
     "metadata": {},
     "output_type": "execute_result"
    }
   ],
   "source": [
    "data['marks']"
   ]
  },
  {
   "cell_type": "code",
   "execution_count": 14,
   "id": "6d02ae2b",
   "metadata": {},
   "outputs": [
    {
     "data": {
      "text/html": [
       "<div>\n",
       "<style scoped>\n",
       "    .dataframe tbody tr th:only-of-type {\n",
       "        vertical-align: middle;\n",
       "    }\n",
       "\n",
       "    .dataframe tbody tr th {\n",
       "        vertical-align: top;\n",
       "    }\n",
       "\n",
       "    .dataframe thead th {\n",
       "        text-align: right;\n",
       "    }\n",
       "</style>\n",
       "<table border=\"1\" class=\"dataframe\">\n",
       "  <thead>\n",
       "    <tr style=\"text-align: right;\">\n",
       "      <th></th>\n",
       "      <th>marks</th>\n",
       "    </tr>\n",
       "  </thead>\n",
       "  <tbody>\n",
       "    <tr>\n",
       "      <th>0</th>\n",
       "      <td>95</td>\n",
       "    </tr>\n",
       "    <tr>\n",
       "      <th>1</th>\n",
       "      <td>98</td>\n",
       "    </tr>\n",
       "    <tr>\n",
       "      <th>2</th>\n",
       "      <td>92</td>\n",
       "    </tr>\n",
       "    <tr>\n",
       "      <th>3</th>\n",
       "      <td>10000</td>\n",
       "    </tr>\n",
       "    <tr>\n",
       "      <th>4</th>\n",
       "      <td>91</td>\n",
       "    </tr>\n",
       "    <tr>\n",
       "      <th>5</th>\n",
       "      <td>89</td>\n",
       "    </tr>\n",
       "    <tr>\n",
       "      <th>6</th>\n",
       "      <td>90</td>\n",
       "    </tr>\n",
       "    <tr>\n",
       "      <th>7</th>\n",
       "      <td>2000</td>\n",
       "    </tr>\n",
       "    <tr>\n",
       "      <th>8</th>\n",
       "      <td>100</td>\n",
       "    </tr>\n",
       "    <tr>\n",
       "      <th>9</th>\n",
       "      <td>100</td>\n",
       "    </tr>\n",
       "  </tbody>\n",
       "</table>\n",
       "</div>"
      ],
      "text/plain": [
       "   marks\n",
       "0     95\n",
       "1     98\n",
       "2     92\n",
       "3  10000\n",
       "4     91\n",
       "5     89\n",
       "6     90\n",
       "7   2000\n",
       "8    100\n",
       "9    100"
      ]
     },
     "execution_count": 14,
     "metadata": {},
     "output_type": "execute_result"
    }
   ],
   "source": [
    "data[['marks']]"
   ]
  },
  {
   "cell_type": "markdown",
   "id": "b1f02ee2",
   "metadata": {},
   "source": [
    "### Exploratory Data Analysis"
   ]
  },
  {
   "cell_type": "code",
   "execution_count": 8,
   "id": "5adda2cd",
   "metadata": {},
   "outputs": [
    {
     "data": {
      "text/plain": [
       "<AxesSubplot:xlabel='marks'>"
      ]
     },
     "execution_count": 8,
     "metadata": {},
     "output_type": "execute_result"
    },
    {
     "data": {
      "image/png": "[encoded data removed]",
      "text/plain": [
       "<Figure size 432x288 with 1 Axes>"
      ]
     },
     "metadata": {
      "needs_background": "light"
     },
     "output_type": "display_data"
    }
   ],
   "source": [
    "sns.boxplot(data.marks)"
   ]
  },
  {
   "cell_type": "markdown",
   "id": "c9a2575f",
   "metadata": {},
   "source": [
    "- There seems to be two anomalies"
   ]
  },
  {
   "cell_type": "markdown",
   "id": "94e4d1da",
   "metadata": {},
   "source": [
    "### Define and Fit the model"
   ]
  },
  {
   "cell_type": "code",
   "execution_count": 15,
   "id": "41670ed3",
   "metadata": {},
   "outputs": [],
   "source": [
    "random_state = np.random.RandomState(42)"
   ]
  },
  {
   "cell_type": "code",
   "execution_count": 16,
   "id": "f32add14",
   "metadata": {},
   "outputs": [],
   "source": [
    "model = IsolationForest(n_estimators=100, max_samples='auto', contamination=float(0.2), random_state = random_state)"
   ]
  },
  {
   "cell_type": "markdown",
   "id": "cea56283",
   "metadata": {},
   "source": [
    "#### Model details"
   ]
  },
  {
   "cell_type": "code",
   "execution_count": 19,
   "id": "b7fda806",
   "metadata": {},
   "outputs": [
    {
     "data": {
      "text/plain": [
       "IsolationForest(contamination=0.2,\n",
       "                random_state=RandomState(MT19937) at 0x7FBD1BAFAD40)"
      ]
     },
     "execution_count": 19,
     "metadata": {},
     "output_type": "execute_result"
    }
   ],
   "source": [
    "model"
   ]
  },
  {
   "cell_type": "code",
   "execution_count": 18,
   "id": "37eb9c2a",
   "metadata": {},
   "outputs": [
    {
     "data": {
      "text/plain": [
       "ExtraTreeRegressor(max_features=1,\n",
       "                   random_state=RandomState(MT19937) at 0x7FBD1BAFAD40)"
      ]
     },
     "execution_count": 18,
     "metadata": {},
     "output_type": "execute_result"
    }
   ],
   "source": [
    "model.base_estimator"
   ]
  },
  {
   "cell_type": "code",
   "execution_count": 20,
   "id": "8bbffc37",
   "metadata": {},
   "outputs": [
    {
     "data": {
      "text/plain": [
       "0.2"
      ]
     },
     "execution_count": 20,
     "metadata": {},
     "output_type": "execute_result"
    }
   ],
   "source": [
    "model.contamination"
   ]
  },
  {
   "cell_type": "code",
   "execution_count": 21,
   "id": "55994729",
   "metadata": {},
   "outputs": [
    {
     "data": {
      "text/plain": [
       "'auto'"
      ]
     },
     "execution_count": 21,
     "metadata": {},
     "output_type": "execute_result"
    }
   ],
   "source": [
    "model.max_samples"
   ]
  },
  {
   "cell_type": "code",
   "execution_count": 22,
   "id": "e5031303",
   "metadata": {},
   "outputs": [
    {
     "data": {
      "text/plain": [
       "100"
      ]
     },
     "execution_count": 22,
     "metadata": {},
     "output_type": "execute_result"
    }
   ],
   "source": [
    "model.n_estimators"
   ]
  },
  {
   "cell_type": "code",
   "execution_count": 23,
   "id": "4d3a1c46",
   "metadata": {},
   "outputs": [
    {
     "data": {
      "text/plain": [
       "RandomState(MT19937) at 0x7FBD1BAFAD40"
      ]
     },
     "execution_count": 23,
     "metadata": {},
     "output_type": "execute_result"
    }
   ],
   "source": [
    "model.random_state"
   ]
  },
  {
   "cell_type": "code",
   "execution_count": 24,
   "id": "67ec44c8",
   "metadata": {},
   "outputs": [
    {
     "data": {
      "text/plain": [
       "<bound method BaseEstimator.get_params of IsolationForest(contamination=0.2,\n",
       "                random_state=RandomState(MT19937) at 0x7FBD1BAFAD40)>"
      ]
     },
     "execution_count": 24,
     "metadata": {},
     "output_type": "execute_result"
    }
   ],
   "source": [
    "model.get_params"
   ]
  },
  {
   "cell_type": "code",
   "execution_count": 25,
   "id": "23cbc2dd",
   "metadata": {},
   "outputs": [
    {
     "data": {
      "text/plain": [
       "{'bootstrap': False,\n",
       " 'contamination': 0.2,\n",
       " 'max_features': 1.0,\n",
       " 'max_samples': 'auto',\n",
       " 'n_estimators': 100,\n",
       " 'n_jobs': None,\n",
       " 'random_state': RandomState(MT19937) at 0x7FBD1BAFAD40,\n",
       " 'verbose': 0,\n",
       " 'warm_start': False}"
      ]
     },
     "execution_count": 25,
     "metadata": {},
     "output_type": "execute_result"
    }
   ],
   "source": [
    "model.get_params()"
   ]
  },
  {
   "cell_type": "code",
   "execution_count": 28,
   "id": "e2213625",
   "metadata": {},
   "outputs": [
    {
     "data": {
      "text/plain": [
       "<bound method IsolationForest.decision_function of IsolationForest(contamination=0.2,\n",
       "                random_state=RandomState(MT19937) at 0x7FBD1BAFAD40)>"
      ]
     },
     "execution_count": 28,
     "metadata": {},
     "output_type": "execute_result"
    }
   ],
   "source": [
    "model.decision_function"
   ]
  },
  {
   "cell_type": "code",
   "execution_count": null,
   "id": "451d435d",
   "metadata": {},
   "outputs": [],
   "source": [
    "model."
   ]
  },
  {
   "cell_type": "code",
   "execution_count": 29,
   "id": "b2205dac",
   "metadata": {},
   "outputs": [
    {
     "data": {
      "text/plain": [
       "<bound method IsolationForest.fit of IsolationForest(contamination=0.2,\n",
       "                random_state=RandomState(MT19937) at 0x7FBD1BAFAD40)>"
      ]
     },
     "execution_count": 29,
     "metadata": {},
     "output_type": "execute_result"
    }
   ],
   "source": [
    "model.fit"
   ]
  },
  {
   "cell_type": "code",
   "execution_count": 30,
   "id": "c42c14d0",
   "metadata": {},
   "outputs": [
    {
     "ename": "TypeError",
     "evalue": "fit() missing 1 required positional argument: 'X'",
     "output_type": "error",
     "traceback": [
      "\u001b[0;31m---------------------------------------------------------------------------\u001b[0m",
      "\u001b[0;31mTypeError\u001b[0m                                 Traceback (most recent call last)",
      "\u001b[0;32m<ipython-input-30-f781fe65eb00>\u001b[0m in \u001b[0;36m<module>\u001b[0;34m\u001b[0m\n\u001b[0;32m----> 1\u001b[0;31m \u001b[0mmodel\u001b[0m\u001b[0;34m.\u001b[0m\u001b[0mfit\u001b[0m\u001b[0;34m(\u001b[0m\u001b[0;34m)\u001b[0m\u001b[0;34m\u001b[0m\u001b[0;34m\u001b[0m\u001b[0m\n\u001b[0m",
      "\u001b[0;31mTypeError\u001b[0m: fit() missing 1 required positional argument: 'X'"
     ]
    }
   ],
   "source": [
    "model.fit()"
   ]
  },
  {
   "cell_type": "code",
   "execution_count": 32,
   "id": "2327d87d",
   "metadata": {},
   "outputs": [
    {
     "name": "stdout",
     "output_type": "stream",
     "text": [
      "{'bootstrap': False, 'contamination': 0.2, 'max_features': 1.0, 'max_samples': 'auto', 'n_estimators': 100, 'n_jobs': None, 'random_state': RandomState(MT19937) at 0x7FBD1BAFAD40, 'verbose': 0, 'warm_start': False}\n"
     ]
    }
   ],
   "source": [
    "print(model.get_params())"
   ]
  },
  {
   "cell_type": "code",
   "execution_count": null,
   "id": "0e9031ef",
   "metadata": {},
   "outputs": [],
   "source": []
  },
  {
   "cell_type": "code",
   "execution_count": null,
   "id": "cd506a72",
   "metadata": {},
   "outputs": [],
   "source": []
  },
  {
   "cell_type": "code",
   "execution_count": null,
   "id": "064c3ab3",
   "metadata": {},
   "outputs": [],
   "source": []
  },
  {
   "cell_type": "markdown",
   "id": "d56e2b22",
   "metadata": {},
   "source": [
    "#### Model fitting"
   ]
  },
  {
   "cell_type": "code",
   "execution_count": 31,
   "id": "a91cbbd7",
   "metadata": {},
   "outputs": [
    {
     "data": {
      "text/plain": [
       "IsolationForest(contamination=0.2,\n",
       "                random_state=RandomState(MT19937) at 0x7FBD1BAFAD40)"
      ]
     },
     "execution_count": 31,
     "metadata": {},
     "output_type": "execute_result"
    }
   ],
   "source": [
    "model.fit(data[['marks']])"
   ]
  },
  {
   "cell_type": "markdown",
   "id": "83dd4cdc",
   "metadata": {},
   "source": [
    "### Score the data to obtain anomaly scores"
   ]
  },
  {
   "cell_type": "code",
   "execution_count": 36,
   "id": "e7149c23",
   "metadata": {},
   "outputs": [],
   "source": [
    "data['scores'] = model.decision_function(data[['marks']])"
   ]
  },
  {
   "cell_type": "code",
   "execution_count": 37,
   "id": "485d6d6c",
   "metadata": {},
   "outputs": [
    {
     "data": {
      "text/html": [
       "<div>\n",
       "<style scoped>\n",
       "    .dataframe tbody tr th:only-of-type {\n",
       "        vertical-align: middle;\n",
       "    }\n",
       "\n",
       "    .dataframe tbody tr th {\n",
       "        vertical-align: top;\n",
       "    }\n",
       "\n",
       "    .dataframe thead th {\n",
       "        text-align: right;\n",
       "    }\n",
       "</style>\n",
       "<table border=\"1\" class=\"dataframe\">\n",
       "  <thead>\n",
       "    <tr style=\"text-align: right;\">\n",
       "      <th></th>\n",
       "      <th>student id</th>\n",
       "      <th>marks</th>\n",
       "      <th>scores</th>\n",
       "    </tr>\n",
       "  </thead>\n",
       "  <tbody>\n",
       "    <tr>\n",
       "      <th>0</th>\n",
       "      <td>1</td>\n",
       "      <td>95</td>\n",
       "      <td>0.066074</td>\n",
       "    </tr>\n",
       "    <tr>\n",
       "      <th>1</th>\n",
       "      <td>2</td>\n",
       "      <td>98</td>\n",
       "      <td>0.052864</td>\n",
       "    </tr>\n",
       "    <tr>\n",
       "      <th>2</th>\n",
       "      <td>3</td>\n",
       "      <td>92</td>\n",
       "      <td>0.098415</td>\n",
       "    </tr>\n",
       "    <tr>\n",
       "      <th>3</th>\n",
       "      <td>4</td>\n",
       "      <td>10000</td>\n",
       "      <td>-0.318638</td>\n",
       "    </tr>\n",
       "    <tr>\n",
       "      <th>4</th>\n",
       "      <td>5</td>\n",
       "      <td>91</td>\n",
       "      <td>0.106519</td>\n",
       "    </tr>\n",
       "  </tbody>\n",
       "</table>\n",
       "</div>"
      ],
      "text/plain": [
       "   student id  marks    scores\n",
       "0           1     95  0.066074\n",
       "1           2     98  0.052864\n",
       "2           3     92  0.098415\n",
       "3           4  10000 -0.318638\n",
       "4           5     91  0.106519"
      ]
     },
     "execution_count": 37,
     "metadata": {},
     "output_type": "execute_result"
    }
   ],
   "source": [
    "data.head()"
   ]
  },
  {
   "cell_type": "code",
   "execution_count": 38,
   "id": "4ad75630",
   "metadata": {},
   "outputs": [],
   "source": [
    "data['anomaly_score'] = model.predict(data[['marks']])"
   ]
  },
  {
   "cell_type": "code",
   "execution_count": 40,
   "id": "3d154658",
   "metadata": {},
   "outputs": [
    {
     "data": {
      "text/html": [
       "<div>\n",
       "<style scoped>\n",
       "    .dataframe tbody tr th:only-of-type {\n",
       "        vertical-align: middle;\n",
       "    }\n",
       "\n",
       "    .dataframe tbody tr th {\n",
       "        vertical-align: top;\n",
       "    }\n",
       "\n",
       "    .dataframe thead th {\n",
       "        text-align: right;\n",
       "    }\n",
       "</style>\n",
       "<table border=\"1\" class=\"dataframe\">\n",
       "  <thead>\n",
       "    <tr style=\"text-align: right;\">\n",
       "      <th></th>\n",
       "      <th>student id</th>\n",
       "      <th>marks</th>\n",
       "      <th>scores</th>\n",
       "      <th>anomaly_score</th>\n",
       "    </tr>\n",
       "  </thead>\n",
       "  <tbody>\n",
       "    <tr>\n",
       "      <th>0</th>\n",
       "      <td>1</td>\n",
       "      <td>95</td>\n",
       "      <td>0.066074</td>\n",
       "      <td>1</td>\n",
       "    </tr>\n",
       "    <tr>\n",
       "      <th>1</th>\n",
       "      <td>2</td>\n",
       "      <td>98</td>\n",
       "      <td>0.052864</td>\n",
       "      <td>1</td>\n",
       "    </tr>\n",
       "    <tr>\n",
       "      <th>2</th>\n",
       "      <td>3</td>\n",
       "      <td>92</td>\n",
       "      <td>0.098415</td>\n",
       "      <td>1</td>\n",
       "    </tr>\n",
       "    <tr>\n",
       "      <th>3</th>\n",
       "      <td>4</td>\n",
       "      <td>10000</td>\n",
       "      <td>-0.318638</td>\n",
       "      <td>-1</td>\n",
       "    </tr>\n",
       "    <tr>\n",
       "      <th>4</th>\n",
       "      <td>5</td>\n",
       "      <td>91</td>\n",
       "      <td>0.106519</td>\n",
       "      <td>1</td>\n",
       "    </tr>\n",
       "    <tr>\n",
       "      <th>5</th>\n",
       "      <td>6</td>\n",
       "      <td>89</td>\n",
       "      <td>0.054518</td>\n",
       "      <td>1</td>\n",
       "    </tr>\n",
       "    <tr>\n",
       "      <th>6</th>\n",
       "      <td>7</td>\n",
       "      <td>90</td>\n",
       "      <td>0.098212</td>\n",
       "      <td>1</td>\n",
       "    </tr>\n",
       "    <tr>\n",
       "      <th>7</th>\n",
       "      <td>8</td>\n",
       "      <td>2000</td>\n",
       "      <td>-0.211458</td>\n",
       "      <td>-1</td>\n",
       "    </tr>\n",
       "    <tr>\n",
       "      <th>8</th>\n",
       "      <td>9</td>\n",
       "      <td>100</td>\n",
       "      <td>0.069109</td>\n",
       "      <td>1</td>\n",
       "    </tr>\n",
       "    <tr>\n",
       "      <th>9</th>\n",
       "      <td>10</td>\n",
       "      <td>100</td>\n",
       "      <td>0.069109</td>\n",
       "      <td>1</td>\n",
       "    </tr>\n",
       "  </tbody>\n",
       "</table>\n",
       "</div>"
      ],
      "text/plain": [
       "   student id  marks    scores  anomaly_score\n",
       "0           1     95  0.066074              1\n",
       "1           2     98  0.052864              1\n",
       "2           3     92  0.098415              1\n",
       "3           4  10000 -0.318638             -1\n",
       "4           5     91  0.106519              1\n",
       "5           6     89  0.054518              1\n",
       "6           7     90  0.098212              1\n",
       "7           8   2000 -0.211458             -1\n",
       "8           9    100  0.069109              1\n",
       "9          10    100  0.069109              1"
      ]
     },
     "execution_count": 40,
     "metadata": {},
     "output_type": "execute_result"
    }
   ],
   "source": [
    "data.head(10)"
   ]
  },
  {
   "cell_type": "code",
   "execution_count": 41,
   "id": "5c5311e7",
   "metadata": {},
   "outputs": [
    {
     "data": {
      "text/html": [
       "<div>\n",
       "<style scoped>\n",
       "    .dataframe tbody tr th:only-of-type {\n",
       "        vertical-align: middle;\n",
       "    }\n",
       "\n",
       "    .dataframe tbody tr th {\n",
       "        vertical-align: top;\n",
       "    }\n",
       "\n",
       "    .dataframe thead th {\n",
       "        text-align: right;\n",
       "    }\n",
       "</style>\n",
       "<table border=\"1\" class=\"dataframe\">\n",
       "  <thead>\n",
       "    <tr style=\"text-align: right;\">\n",
       "      <th></th>\n",
       "      <th>student id</th>\n",
       "      <th>marks</th>\n",
       "      <th>scores</th>\n",
       "      <th>anomaly_score</th>\n",
       "    </tr>\n",
       "  </thead>\n",
       "  <tbody>\n",
       "    <tr>\n",
       "      <th>3</th>\n",
       "      <td>4</td>\n",
       "      <td>10000</td>\n",
       "      <td>-0.318638</td>\n",
       "      <td>-1</td>\n",
       "    </tr>\n",
       "    <tr>\n",
       "      <th>7</th>\n",
       "      <td>8</td>\n",
       "      <td>2000</td>\n",
       "      <td>-0.211458</td>\n",
       "      <td>-1</td>\n",
       "    </tr>\n",
       "  </tbody>\n",
       "</table>\n",
       "</div>"
      ],
      "text/plain": [
       "   student id  marks    scores  anomaly_score\n",
       "3           4  10000 -0.318638             -1\n",
       "7           8   2000 -0.211458             -1"
      ]
     },
     "execution_count": 41,
     "metadata": {},
     "output_type": "execute_result"
    }
   ],
   "source": [
    "data[data['anomaly_score'] == -1]"
   ]
  },
  {
   "cell_type": "code",
   "execution_count": null,
   "id": "0684395c",
   "metadata": {},
   "outputs": [],
   "source": []
  },
  {
   "cell_type": "markdown",
   "id": "cea91f08",
   "metadata": {},
   "source": [
    "### Model Evalucation"
   ]
  },
  {
   "cell_type": "code",
   "execution_count": 47,
   "id": "6331ad05",
   "metadata": {},
   "outputs": [],
   "source": [
    "anomaly_count = 2"
   ]
  },
  {
   "cell_type": "code",
   "execution_count": 49,
   "id": "0c7e90da",
   "metadata": {},
   "outputs": [
    {
     "data": {
      "text/plain": [
       "100.0"
      ]
     },
     "execution_count": 49,
     "metadata": {},
     "output_type": "execute_result"
    }
   ],
   "source": [
    "accuracy = 100 * list(data['anomaly_score']).count(-1) / (anomaly_count)\n",
    "accuracy"
   ]
  },
  {
   "cell_type": "code",
   "execution_count": 43,
   "id": "0818f897",
   "metadata": {},
   "outputs": [
    {
     "data": {
      "text/plain": [
       "200"
      ]
     },
     "execution_count": 43,
     "metadata": {},
     "output_type": "execute_result"
    }
   ],
   "source": [
    "100 * list(data['anomaly_score']).count(-1)"
   ]
  },
  {
   "cell_type": "code",
   "execution_count": 44,
   "id": "f09c68aa",
   "metadata": {},
   "outputs": [
    {
     "data": {
      "text/plain": [
       "[1, 1, 1, -1, 1, 1, 1, -1, 1, 1]"
      ]
     },
     "execution_count": 44,
     "metadata": {},
     "output_type": "execute_result"
    }
   ],
   "source": [
    "list(data['anomaly_score'])"
   ]
  },
  {
   "cell_type": "code",
   "execution_count": 45,
   "id": "8a93dcd2",
   "metadata": {},
   "outputs": [
    {
     "data": {
      "text/plain": [
       "2"
      ]
     },
     "execution_count": 45,
     "metadata": {},
     "output_type": "execute_result"
    }
   ],
   "source": [
    "list(data['anomaly_score']).count(-1)"
   ]
  },
  {
   "cell_type": "markdown",
   "id": "28bee8ef",
   "metadata": {},
   "source": [
    "### Try\n",
    "- what happens if we change the contamination pramater"
   ]
  },
  {
   "cell_type": "code",
   "execution_count": null,
   "id": "d63a4247",
   "metadata": {},
   "outputs": [],
   "source": []
  },
  {
   "cell_type": "markdown",
   "id": "32a65971",
   "metadata": {},
   "source": [
    "[Anomaly Detection using isolation Forest](https://www.analyticsvidhya.com/blog/2021/07/anomaly-detection-using-isolation-forest-a-complete-guide/)"
   ]
  },
  {
   "cell_type": "code",
   "execution_count": null,
   "id": "fddc3bd3",
   "metadata": {},
   "outputs": [],
   "source": []
  },
  {
   "cell_type": "code",
   "execution_count": null,
   "id": "c4e1a7d9",
   "metadata": {},
   "outputs": [],
   "source": []
  }
 ],
 "metadata": {
  "kernelspec": {
   "display_name": "Python 3 (ipykernel)",
   "language": "python",
   "name": "python3"
  },
  "language_info": {
   "codemirror_mode": {
    "name": "ipython",
    "version": 3
   },
   "file_extension": ".py",
   "mimetype": "text/x-python",
   "name": "python",
   "nbconvert_exporter": "python",
   "pygments_lexer": "ipython3",
   "version": "3.9.7"
  }
 },
 "nbformat": 4,
 "nbformat_minor": 5
}
